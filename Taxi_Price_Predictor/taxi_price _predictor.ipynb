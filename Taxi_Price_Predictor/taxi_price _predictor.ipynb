{
 "cells": [
  {
   "cell_type": "code",
   "execution_count": 1,
   "id": "8a2ae833",
   "metadata": {},
   "outputs": [],
   "source": [
    "import pandas as pd\n",
    "import numpy as np\n",
    "import matplotlib.pyplot as plt \n",
    "import seaborn as sns"
   ]
  },
  {
   "cell_type": "code",
   "execution_count": 2,
   "id": "8854c624",
   "metadata": {},
   "outputs": [
    {
     "data": {
      "text/html": [
       "<div>\n",
       "<style scoped>\n",
       "    .dataframe tbody tr th:only-of-type {\n",
       "        vertical-align: middle;\n",
       "    }\n",
       "\n",
       "    .dataframe tbody tr th {\n",
       "        vertical-align: top;\n",
       "    }\n",
       "\n",
       "    .dataframe thead th {\n",
       "        text-align: right;\n",
       "    }\n",
       "</style>\n",
       "<table border=\"1\" class=\"dataframe\">\n",
       "  <thead>\n",
       "    <tr style=\"text-align: right;\">\n",
       "      <th></th>\n",
       "      <th>Trip_Distance_km</th>\n",
       "      <th>Time_of_Day</th>\n",
       "      <th>Day_of_Week</th>\n",
       "      <th>Passenger_Count</th>\n",
       "      <th>Traffic_Conditions</th>\n",
       "      <th>Weather</th>\n",
       "      <th>Base_Fare</th>\n",
       "      <th>Per_Km_Rate</th>\n",
       "      <th>Per_Minute_Rate</th>\n",
       "      <th>Trip_Duration_Minutes</th>\n",
       "      <th>Trip_Price</th>\n",
       "    </tr>\n",
       "  </thead>\n",
       "  <tbody>\n",
       "    <tr>\n",
       "      <th>0</th>\n",
       "      <td>19.35</td>\n",
       "      <td>Morning</td>\n",
       "      <td>Weekday</td>\n",
       "      <td>3.0</td>\n",
       "      <td>Low</td>\n",
       "      <td>Clear</td>\n",
       "      <td>3.56</td>\n",
       "      <td>0.80</td>\n",
       "      <td>0.32</td>\n",
       "      <td>53.82</td>\n",
       "      <td>36.2624</td>\n",
       "    </tr>\n",
       "    <tr>\n",
       "      <th>1</th>\n",
       "      <td>47.59</td>\n",
       "      <td>Afternoon</td>\n",
       "      <td>Weekday</td>\n",
       "      <td>1.0</td>\n",
       "      <td>High</td>\n",
       "      <td>Clear</td>\n",
       "      <td>NaN</td>\n",
       "      <td>0.62</td>\n",
       "      <td>0.43</td>\n",
       "      <td>40.57</td>\n",
       "      <td>NaN</td>\n",
       "    </tr>\n",
       "    <tr>\n",
       "      <th>2</th>\n",
       "      <td>36.87</td>\n",
       "      <td>Evening</td>\n",
       "      <td>Weekend</td>\n",
       "      <td>1.0</td>\n",
       "      <td>High</td>\n",
       "      <td>Clear</td>\n",
       "      <td>2.70</td>\n",
       "      <td>1.21</td>\n",
       "      <td>0.15</td>\n",
       "      <td>37.27</td>\n",
       "      <td>52.9032</td>\n",
       "    </tr>\n",
       "    <tr>\n",
       "      <th>3</th>\n",
       "      <td>30.33</td>\n",
       "      <td>Evening</td>\n",
       "      <td>Weekday</td>\n",
       "      <td>4.0</td>\n",
       "      <td>Low</td>\n",
       "      <td>NaN</td>\n",
       "      <td>3.48</td>\n",
       "      <td>0.51</td>\n",
       "      <td>0.15</td>\n",
       "      <td>116.81</td>\n",
       "      <td>36.4698</td>\n",
       "    </tr>\n",
       "    <tr>\n",
       "      <th>4</th>\n",
       "      <td>NaN</td>\n",
       "      <td>Evening</td>\n",
       "      <td>Weekday</td>\n",
       "      <td>3.0</td>\n",
       "      <td>High</td>\n",
       "      <td>Clear</td>\n",
       "      <td>2.93</td>\n",
       "      <td>0.63</td>\n",
       "      <td>0.32</td>\n",
       "      <td>22.64</td>\n",
       "      <td>15.6180</td>\n",
       "    </tr>\n",
       "  </tbody>\n",
       "</table>\n",
       "</div>"
      ],
      "text/plain": [
       "   Trip_Distance_km Time_of_Day Day_of_Week  Passenger_Count  \\\n",
       "0             19.35     Morning     Weekday              3.0   \n",
       "1             47.59   Afternoon     Weekday              1.0   \n",
       "2             36.87     Evening     Weekend              1.0   \n",
       "3             30.33     Evening     Weekday              4.0   \n",
       "4               NaN     Evening     Weekday              3.0   \n",
       "\n",
       "  Traffic_Conditions Weather  Base_Fare  Per_Km_Rate  Per_Minute_Rate  \\\n",
       "0                Low   Clear       3.56         0.80             0.32   \n",
       "1               High   Clear        NaN         0.62             0.43   \n",
       "2               High   Clear       2.70         1.21             0.15   \n",
       "3                Low     NaN       3.48         0.51             0.15   \n",
       "4               High   Clear       2.93         0.63             0.32   \n",
       "\n",
       "   Trip_Duration_Minutes  Trip_Price  \n",
       "0                  53.82     36.2624  \n",
       "1                  40.57         NaN  \n",
       "2                  37.27     52.9032  \n",
       "3                 116.81     36.4698  \n",
       "4                  22.64     15.6180  "
      ]
     },
     "execution_count": 2,
     "metadata": {},
     "output_type": "execute_result"
    }
   ],
   "source": [
    "data = pd.read_csv('taxi_trip_pricing.csv')\n",
    "data.head()"
   ]
  },
  {
   "cell_type": "code",
   "execution_count": 3,
   "id": "93a9e107",
   "metadata": {},
   "outputs": [
    {
     "data": {
      "text/plain": [
       "(1000, 11)"
      ]
     },
     "execution_count": 3,
     "metadata": {},
     "output_type": "execute_result"
    }
   ],
   "source": [
    "data.shape"
   ]
  },
  {
   "cell_type": "code",
   "execution_count": 4,
   "id": "7e32aa8c",
   "metadata": {},
   "outputs": [
    {
     "data": {
      "text/plain": [
       "Trip_Distance_km         50\n",
       "Time_of_Day              50\n",
       "Day_of_Week              50\n",
       "Passenger_Count          50\n",
       "Traffic_Conditions       50\n",
       "Weather                  50\n",
       "Base_Fare                50\n",
       "Per_Km_Rate              50\n",
       "Per_Minute_Rate          50\n",
       "Trip_Duration_Minutes    50\n",
       "Trip_Price               49\n",
       "dtype: int64"
      ]
     },
     "execution_count": 4,
     "metadata": {},
     "output_type": "execute_result"
    }
   ],
   "source": [
    "data.isnull().sum()"
   ]
  },
  {
   "cell_type": "code",
   "execution_count": 5,
   "id": "d8ef2c92",
   "metadata": {},
   "outputs": [
    {
     "data": {
      "text/plain": [
       "<Axes: xlabel='Trip_Price', ylabel='Count'>"
      ]
     },
     "execution_count": 5,
     "metadata": {},
     "output_type": "execute_result"
    },
    {
     "data": {
      "image/png": "[encoded data removed]",
      "text/plain": [
       "<Figure size 640x480 with 1 Axes>"
      ]
     },
     "metadata": {},
     "output_type": "display_data"
    }
   ],
   "source": [
    "sns.histplot(data=data,x=data.Trip_Price,bins=10)"
   ]
  },
  {
   "cell_type": "code",
   "execution_count": 6,
   "id": "a4187baa",
   "metadata": {},
   "outputs": [
    {
     "data": {
      "text/plain": [
       "array([[<Axes: title={'center': 'Trip_Distance_km'}>,\n",
       "        <Axes: title={'center': 'Passenger_Count'}>,\n",
       "        <Axes: title={'center': 'Base_Fare'}>],\n",
       "       [<Axes: title={'center': 'Per_Km_Rate'}>,\n",
       "        <Axes: title={'center': 'Per_Minute_Rate'}>,\n",
       "        <Axes: title={'center': 'Trip_Duration_Minutes'}>],\n",
       "       [<Axes: title={'center': 'Trip_Price'}>, <Axes: >, <Axes: >]],\n",
       "      dtype=object)"
      ]
     },
     "execution_count": 6,
     "metadata": {},
     "output_type": "execute_result"
    },
    {
     "data": {
      "image/png": "[encoded data removed]",
      "text/plain": [
       "<Figure size 1200x600 with 9 Axes>"
      ]
     },
     "metadata": {},
     "output_type": "display_data"
    }
   ],
   "source": [
    "data.hist(bins=10,figsize=(12,6))"
   ]
  },
  {
   "cell_type": "code",
   "execution_count": 7,
   "id": "1ce16e72",
   "metadata": {},
   "outputs": [
    {
     "data": {
      "text/plain": [
       "0      Clear\n",
       "1      Clear\n",
       "2      Clear\n",
       "3        NaN\n",
       "4      Clear\n",
       "       ...  \n",
       "995    Clear\n",
       "996    Clear\n",
       "997     Rain\n",
       "998    Clear\n",
       "999    Clear\n",
       "Name: Weather, Length: 1000, dtype: object"
      ]
     },
     "execution_count": 7,
     "metadata": {},
     "output_type": "execute_result"
    }
   ],
   "source": [
    "data.Weather"
   ]
  },
  {
   "cell_type": "code",
   "execution_count": 8,
   "id": "d8248c27",
   "metadata": {},
   "outputs": [
    {
     "data": {
      "text/plain": [
       "Trip_Distance_km         float64\n",
       "Time_of_Day               object\n",
       "Day_of_Week               object\n",
       "Passenger_Count          float64\n",
       "Traffic_Conditions        object\n",
       "Weather                   object\n",
       "Base_Fare                float64\n",
       "Per_Km_Rate              float64\n",
       "Per_Minute_Rate          float64\n",
       "Trip_Duration_Minutes    float64\n",
       "Trip_Price               float64\n",
       "dtype: object"
      ]
     },
     "execution_count": 8,
     "metadata": {},
     "output_type": "execute_result"
    }
   ],
   "source": [
    "data.dtypes"
   ]
  },
  {
   "cell_type": "code",
   "execution_count": 9,
   "id": "21c10dbb",
   "metadata": {},
   "outputs": [
    {
     "name": "stdout",
     "output_type": "stream",
     "text": [
      "                       Trip_Distance_km  Passenger_Count  Base_Fare  \\\n",
      "Trip_Distance_km               1.000000        -0.048397   0.032218   \n",
      "Passenger_Count               -0.048397         1.000000   0.022932   \n",
      "Base_Fare                      0.032218         0.022932   1.000000   \n",
      "Per_Km_Rate                   -0.017041         0.030213   0.003092   \n",
      "Per_Minute_Rate               -0.025902         0.034068  -0.019150   \n",
      "Trip_Duration_Minutes         -0.022102         0.022845   0.012035   \n",
      "Trip_Price                     0.849123        -0.014223   0.035533   \n",
      "\n",
      "                       Per_Km_Rate  Per_Minute_Rate  Trip_Duration_Minutes  \\\n",
      "Trip_Distance_km         -0.017041        -0.025902              -0.022102   \n",
      "Passenger_Count           0.030213         0.034068               0.022845   \n",
      "Base_Fare                 0.003092        -0.019150               0.012035   \n",
      "Per_Km_Rate               1.000000         0.029241               0.027199   \n",
      "Per_Minute_Rate           0.029241         1.000000              -0.024230   \n",
      "Trip_Duration_Minutes     0.027199        -0.024230               1.000000   \n",
      "Trip_Price                0.275135         0.141226               0.221211   \n",
      "\n",
      "                       Trip_Price  \n",
      "Trip_Distance_km         0.849123  \n",
      "Passenger_Count         -0.014223  \n",
      "Base_Fare                0.035533  \n",
      "Per_Km_Rate              0.275135  \n",
      "Per_Minute_Rate          0.141226  \n",
      "Trip_Duration_Minutes    0.221211  \n",
      "Trip_Price               1.000000  \n"
     ]
    }
   ],
   "source": [
    "cols = [col for col in data.select_dtypes(exclude='object')]\n",
    "corr = data[cols].corr()\n",
    "print(corr)"
   ]
  },
  {
   "cell_type": "code",
   "execution_count": 10,
   "id": "a269996a",
   "metadata": {},
   "outputs": [
    {
     "data": {
      "text/plain": [
       "<Axes: >"
      ]
     },
     "execution_count": 10,
     "metadata": {},
     "output_type": "execute_result"
    },
    {
     "data": {
      "image/png": "[encoded data removed]",
      "text/plain": [
       "<Figure size 640x480 with 2 Axes>"
      ]
     },
     "metadata": {},
     "output_type": "display_data"
    }
   ],
   "source": [
    "sns.heatmap(corr,annot=True)"
   ]
  },
  {
   "cell_type": "code",
   "execution_count": 11,
   "id": "675ad8d3",
   "metadata": {},
   "outputs": [
    {
     "data": {
      "text/plain": [
       "Trip_Distance_km         5.0\n",
       "Time_of_Day              5.0\n",
       "Day_of_Week              5.0\n",
       "Passenger_Count          5.0\n",
       "Traffic_Conditions       5.0\n",
       "Weather                  5.0\n",
       "Base_Fare                5.0\n",
       "Per_Km_Rate              5.0\n",
       "Per_Minute_Rate          5.0\n",
       "Trip_Duration_Minutes    5.0\n",
       "Trip_Price               4.9\n",
       "dtype: float64"
      ]
     },
     "execution_count": 11,
     "metadata": {},
     "output_type": "execute_result"
    }
   ],
   "source": [
    "data.isnull().sum()/data.shape[0] * 100"
   ]
  },
  {
   "cell_type": "code",
   "execution_count": 12,
   "id": "6edd983f",
   "metadata": {},
   "outputs": [],
   "source": [
    "from sklearn.impute import KNNImputer\n",
    "imputer = KNNImputer(n_neighbors=3)\n",
    "data[cols] = imputer.fit_transform(data[cols])"
   ]
  },
  {
   "cell_type": "code",
   "execution_count": 13,
   "id": "e6ad1806",
   "metadata": {},
   "outputs": [
    {
     "data": {
      "text/plain": [
       "Trip_Distance_km          0\n",
       "Time_of_Day              50\n",
       "Day_of_Week              50\n",
       "Passenger_Count           0\n",
       "Traffic_Conditions       50\n",
       "Weather                  50\n",
       "Base_Fare                 0\n",
       "Per_Km_Rate               0\n",
       "Per_Minute_Rate           0\n",
       "Trip_Duration_Minutes     0\n",
       "Trip_Price                0\n",
       "dtype: int64"
      ]
     },
     "execution_count": 13,
     "metadata": {},
     "output_type": "execute_result"
    }
   ],
   "source": [
    "data.isnull().sum()"
   ]
  },
  {
   "cell_type": "code",
   "execution_count": 14,
   "id": "1337239f",
   "metadata": {},
   "outputs": [
    {
     "data": {
      "text/html": [
       "<div>\n",
       "<style scoped>\n",
       "    .dataframe tbody tr th:only-of-type {\n",
       "        vertical-align: middle;\n",
       "    }\n",
       "\n",
       "    .dataframe tbody tr th {\n",
       "        vertical-align: top;\n",
       "    }\n",
       "\n",
       "    .dataframe thead th {\n",
       "        text-align: right;\n",
       "    }\n",
       "</style>\n",
       "<table border=\"1\" class=\"dataframe\">\n",
       "  <thead>\n",
       "    <tr style=\"text-align: right;\">\n",
       "      <th></th>\n",
       "      <th>Time_of_Day</th>\n",
       "      <th>Day_of_Week</th>\n",
       "      <th>Traffic_Conditions</th>\n",
       "      <th>Weather</th>\n",
       "    </tr>\n",
       "  </thead>\n",
       "  <tbody>\n",
       "    <tr>\n",
       "      <th>0</th>\n",
       "      <td>Morning</td>\n",
       "      <td>Weekday</td>\n",
       "      <td>Low</td>\n",
       "      <td>Clear</td>\n",
       "    </tr>\n",
       "    <tr>\n",
       "      <th>1</th>\n",
       "      <td>Afternoon</td>\n",
       "      <td>Weekday</td>\n",
       "      <td>High</td>\n",
       "      <td>Clear</td>\n",
       "    </tr>\n",
       "    <tr>\n",
       "      <th>2</th>\n",
       "      <td>Evening</td>\n",
       "      <td>Weekend</td>\n",
       "      <td>High</td>\n",
       "      <td>Clear</td>\n",
       "    </tr>\n",
       "    <tr>\n",
       "      <th>3</th>\n",
       "      <td>Evening</td>\n",
       "      <td>Weekday</td>\n",
       "      <td>Low</td>\n",
       "      <td>NaN</td>\n",
       "    </tr>\n",
       "    <tr>\n",
       "      <th>4</th>\n",
       "      <td>Evening</td>\n",
       "      <td>Weekday</td>\n",
       "      <td>High</td>\n",
       "      <td>Clear</td>\n",
       "    </tr>\n",
       "    <tr>\n",
       "      <th>...</th>\n",
       "      <td>...</td>\n",
       "      <td>...</td>\n",
       "      <td>...</td>\n",
       "      <td>...</td>\n",
       "    </tr>\n",
       "    <tr>\n",
       "      <th>995</th>\n",
       "      <td>Afternoon</td>\n",
       "      <td>Weekend</td>\n",
       "      <td>Medium</td>\n",
       "      <td>Clear</td>\n",
       "    </tr>\n",
       "    <tr>\n",
       "      <th>996</th>\n",
       "      <td>Night</td>\n",
       "      <td>Weekday</td>\n",
       "      <td>Medium</td>\n",
       "      <td>Clear</td>\n",
       "    </tr>\n",
       "    <tr>\n",
       "      <th>997</th>\n",
       "      <td>Morning</td>\n",
       "      <td>Weekday</td>\n",
       "      <td>Low</td>\n",
       "      <td>Rain</td>\n",
       "    </tr>\n",
       "    <tr>\n",
       "      <th>998</th>\n",
       "      <td>Morning</td>\n",
       "      <td>Weekday</td>\n",
       "      <td>Low</td>\n",
       "      <td>Clear</td>\n",
       "    </tr>\n",
       "    <tr>\n",
       "      <th>999</th>\n",
       "      <td>Morning</td>\n",
       "      <td>Weekend</td>\n",
       "      <td>Medium</td>\n",
       "      <td>Clear</td>\n",
       "    </tr>\n",
       "  </tbody>\n",
       "</table>\n",
       "<p>1000 rows × 4 columns</p>\n",
       "</div>"
      ],
      "text/plain": [
       "    Time_of_Day Day_of_Week Traffic_Conditions Weather\n",
       "0       Morning     Weekday                Low   Clear\n",
       "1     Afternoon     Weekday               High   Clear\n",
       "2       Evening     Weekend               High   Clear\n",
       "3       Evening     Weekday                Low     NaN\n",
       "4       Evening     Weekday               High   Clear\n",
       "..          ...         ...                ...     ...\n",
       "995   Afternoon     Weekend             Medium   Clear\n",
       "996       Night     Weekday             Medium   Clear\n",
       "997     Morning     Weekday                Low    Rain\n",
       "998     Morning     Weekday                Low   Clear\n",
       "999     Morning     Weekend             Medium   Clear\n",
       "\n",
       "[1000 rows x 4 columns]"
      ]
     },
     "execution_count": 14,
     "metadata": {},
     "output_type": "execute_result"
    }
   ],
   "source": [
    "cat_cols = [col for col in data.select_dtypes(exclude='float64')]\n",
    "data[cat_cols]"
   ]
  },
  {
   "cell_type": "code",
   "execution_count": 15,
   "id": "506dc152",
   "metadata": {},
   "outputs": [],
   "source": [
    "for col in cat_cols:\n",
    "    data[col] = data[col].fillna(data[col].mode()[0])"
   ]
  },
  {
   "cell_type": "code",
   "execution_count": 16,
   "id": "8681eeb1",
   "metadata": {},
   "outputs": [
    {
     "data": {
      "text/plain": [
       "Trip_Distance_km         0\n",
       "Time_of_Day              0\n",
       "Day_of_Week              0\n",
       "Passenger_Count          0\n",
       "Traffic_Conditions       0\n",
       "Weather                  0\n",
       "Base_Fare                0\n",
       "Per_Km_Rate              0\n",
       "Per_Minute_Rate          0\n",
       "Trip_Duration_Minutes    0\n",
       "Trip_Price               0\n",
       "dtype: int64"
      ]
     },
     "execution_count": 16,
     "metadata": {},
     "output_type": "execute_result"
    }
   ],
   "source": [
    "data.isnull().sum()"
   ]
  },
  {
   "cell_type": "code",
   "execution_count": 17,
   "id": "dfda6cc7",
   "metadata": {},
   "outputs": [],
   "source": [
    "data['total_trip_distance_rate'] = data['Trip_Distance_km'] * data['Per_Km_Rate']\n",
    "data['total_duration_rate'] = data['Trip_Duration_Minutes'] * data['Per_Minute_Rate']"
   ]
  },
  {
   "cell_type": "code",
   "execution_count": 18,
   "id": "bd6d8340",
   "metadata": {},
   "outputs": [
    {
     "data": {
      "text/html": [
       "<div>\n",
       "<style scoped>\n",
       "    .dataframe tbody tr th:only-of-type {\n",
       "        vertical-align: middle;\n",
       "    }\n",
       "\n",
       "    .dataframe tbody tr th {\n",
       "        vertical-align: top;\n",
       "    }\n",
       "\n",
       "    .dataframe thead th {\n",
       "        text-align: right;\n",
       "    }\n",
       "</style>\n",
       "<table border=\"1\" class=\"dataframe\">\n",
       "  <thead>\n",
       "    <tr style=\"text-align: right;\">\n",
       "      <th></th>\n",
       "      <th>Trip_Distance_km</th>\n",
       "      <th>Time_of_Day</th>\n",
       "      <th>Day_of_Week</th>\n",
       "      <th>Passenger_Count</th>\n",
       "      <th>Traffic_Conditions</th>\n",
       "      <th>Weather</th>\n",
       "      <th>Base_Fare</th>\n",
       "      <th>Per_Km_Rate</th>\n",
       "      <th>Per_Minute_Rate</th>\n",
       "      <th>Trip_Duration_Minutes</th>\n",
       "      <th>Trip_Price</th>\n",
       "      <th>total_trip_distance_rate</th>\n",
       "      <th>total_duration_rate</th>\n",
       "    </tr>\n",
       "  </thead>\n",
       "  <tbody>\n",
       "    <tr>\n",
       "      <th>0</th>\n",
       "      <td>19.350000</td>\n",
       "      <td>Morning</td>\n",
       "      <td>Weekday</td>\n",
       "      <td>3.0</td>\n",
       "      <td>Low</td>\n",
       "      <td>Clear</td>\n",
       "      <td>3.560000</td>\n",
       "      <td>0.80</td>\n",
       "      <td>0.32</td>\n",
       "      <td>53.82</td>\n",
       "      <td>36.2624</td>\n",
       "      <td>15.4800</td>\n",
       "      <td>17.2224</td>\n",
       "    </tr>\n",
       "    <tr>\n",
       "      <th>1</th>\n",
       "      <td>47.590000</td>\n",
       "      <td>Afternoon</td>\n",
       "      <td>Weekday</td>\n",
       "      <td>1.0</td>\n",
       "      <td>High</td>\n",
       "      <td>Clear</td>\n",
       "      <td>3.573333</td>\n",
       "      <td>0.62</td>\n",
       "      <td>0.43</td>\n",
       "      <td>40.57</td>\n",
       "      <td>44.5984</td>\n",
       "      <td>29.5058</td>\n",
       "      <td>17.4451</td>\n",
       "    </tr>\n",
       "    <tr>\n",
       "      <th>2</th>\n",
       "      <td>36.870000</td>\n",
       "      <td>Evening</td>\n",
       "      <td>Weekend</td>\n",
       "      <td>1.0</td>\n",
       "      <td>High</td>\n",
       "      <td>Clear</td>\n",
       "      <td>2.700000</td>\n",
       "      <td>1.21</td>\n",
       "      <td>0.15</td>\n",
       "      <td>37.27</td>\n",
       "      <td>52.9032</td>\n",
       "      <td>44.6127</td>\n",
       "      <td>5.5905</td>\n",
       "    </tr>\n",
       "    <tr>\n",
       "      <th>3</th>\n",
       "      <td>30.330000</td>\n",
       "      <td>Evening</td>\n",
       "      <td>Weekday</td>\n",
       "      <td>4.0</td>\n",
       "      <td>Low</td>\n",
       "      <td>Clear</td>\n",
       "      <td>3.480000</td>\n",
       "      <td>0.51</td>\n",
       "      <td>0.15</td>\n",
       "      <td>116.81</td>\n",
       "      <td>36.4698</td>\n",
       "      <td>15.4683</td>\n",
       "      <td>17.5215</td>\n",
       "    </tr>\n",
       "    <tr>\n",
       "      <th>4</th>\n",
       "      <td>15.506667</td>\n",
       "      <td>Evening</td>\n",
       "      <td>Weekday</td>\n",
       "      <td>3.0</td>\n",
       "      <td>High</td>\n",
       "      <td>Clear</td>\n",
       "      <td>2.930000</td>\n",
       "      <td>0.63</td>\n",
       "      <td>0.32</td>\n",
       "      <td>22.64</td>\n",
       "      <td>15.6180</td>\n",
       "      <td>9.7692</td>\n",
       "      <td>7.2448</td>\n",
       "    </tr>\n",
       "  </tbody>\n",
       "</table>\n",
       "</div>"
      ],
      "text/plain": [
       "   Trip_Distance_km Time_of_Day Day_of_Week  Passenger_Count  \\\n",
       "0         19.350000     Morning     Weekday              3.0   \n",
       "1         47.590000   Afternoon     Weekday              1.0   \n",
       "2         36.870000     Evening     Weekend              1.0   \n",
       "3         30.330000     Evening     Weekday              4.0   \n",
       "4         15.506667     Evening     Weekday              3.0   \n",
       "\n",
       "  Traffic_Conditions Weather  Base_Fare  Per_Km_Rate  Per_Minute_Rate  \\\n",
       "0                Low   Clear   3.560000         0.80             0.32   \n",
       "1               High   Clear   3.573333         0.62             0.43   \n",
       "2               High   Clear   2.700000         1.21             0.15   \n",
       "3                Low   Clear   3.480000         0.51             0.15   \n",
       "4               High   Clear   2.930000         0.63             0.32   \n",
       "\n",
       "   Trip_Duration_Minutes  Trip_Price  total_trip_distance_rate  \\\n",
       "0                  53.82     36.2624                   15.4800   \n",
       "1                  40.57     44.5984                   29.5058   \n",
       "2                  37.27     52.9032                   44.6127   \n",
       "3                 116.81     36.4698                   15.4683   \n",
       "4                  22.64     15.6180                    9.7692   \n",
       "\n",
       "   total_duration_rate  \n",
       "0              17.2224  \n",
       "1              17.4451  \n",
       "2               5.5905  \n",
       "3              17.5215  \n",
       "4               7.2448  "
      ]
     },
     "execution_count": 18,
     "metadata": {},
     "output_type": "execute_result"
    }
   ],
   "source": [
    "data.head()"
   ]
  },
  {
   "cell_type": "code",
   "execution_count": 19,
   "id": "becf00ad",
   "metadata": {},
   "outputs": [
    {
     "data": {
      "text/plain": [
       "<Axes: >"
      ]
     },
     "execution_count": 19,
     "metadata": {},
     "output_type": "execute_result"
    },
    {
     "data": {
      "image/png": "[encoded data removed]",
      "text/plain": [
       "<Figure size 640x480 with 2 Axes>"
      ]
     },
     "metadata": {},
     "output_type": "display_data"
    }
   ],
   "source": [
    "cols = [col for col in data.select_dtypes(exclude='object')]\n",
    "corr = data[cols].corr()\n",
    "sns.heatmap(corr,annot=True)"
   ]
  },
  {
   "cell_type": "code",
   "execution_count": 20,
   "id": "3590aac2",
   "metadata": {},
   "outputs": [
    {
     "name": "stdout",
     "output_type": "stream",
     "text": [
      "<class 'pandas.core.frame.DataFrame'>\n",
      "RangeIndex: 1000 entries, 0 to 999\n",
      "Data columns (total 13 columns):\n",
      " #   Column                    Non-Null Count  Dtype  \n",
      "---  ------                    --------------  -----  \n",
      " 0   Trip_Distance_km          1000 non-null   float64\n",
      " 1   Time_of_Day               1000 non-null   object \n",
      " 2   Day_of_Week               1000 non-null   object \n",
      " 3   Passenger_Count           1000 non-null   float64\n",
      " 4   Traffic_Conditions        1000 non-null   object \n",
      " 5   Weather                   1000 non-null   object \n",
      " 6   Base_Fare                 1000 non-null   float64\n",
      " 7   Per_Km_Rate               1000 non-null   float64\n",
      " 8   Per_Minute_Rate           1000 non-null   float64\n",
      " 9   Trip_Duration_Minutes     1000 non-null   float64\n",
      " 10  Trip_Price                1000 non-null   float64\n",
      " 11  total_trip_distance_rate  1000 non-null   float64\n",
      " 12  total_duration_rate       1000 non-null   float64\n",
      "dtypes: float64(9), object(4)\n",
      "memory usage: 101.7+ KB\n"
     ]
    }
   ],
   "source": [
    "data.info()"
   ]
  },
  {
   "cell_type": "code",
   "execution_count": 21,
   "id": "ec2feb9c",
   "metadata": {},
   "outputs": [
    {
     "data": {
      "text/plain": [
       "array(['Morning', 'Afternoon', 'Evening', 'Night'], dtype=object)"
      ]
     },
     "execution_count": 21,
     "metadata": {},
     "output_type": "execute_result"
    }
   ],
   "source": [
    "data.Time_of_Day.unique()"
   ]
  },
  {
   "cell_type": "code",
   "execution_count": 22,
   "id": "6456bacb",
   "metadata": {},
   "outputs": [],
   "source": [
    "from sklearn.preprocessing import OrdinalEncoder\n",
    "imputee = OrdinalEncoder(handle_unknown='error')\n",
    "data[cat_cols] = imputee.fit_transform(data[cat_cols])"
   ]
  },
  {
   "cell_type": "code",
   "execution_count": 23,
   "id": "d3a64deb",
   "metadata": {},
   "outputs": [
    {
     "data": {
      "text/html": [
       "<div>\n",
       "<style scoped>\n",
       "    .dataframe tbody tr th:only-of-type {\n",
       "        vertical-align: middle;\n",
       "    }\n",
       "\n",
       "    .dataframe tbody tr th {\n",
       "        vertical-align: top;\n",
       "    }\n",
       "\n",
       "    .dataframe thead th {\n",
       "        text-align: right;\n",
       "    }\n",
       "</style>\n",
       "<table border=\"1\" class=\"dataframe\">\n",
       "  <thead>\n",
       "    <tr style=\"text-align: right;\">\n",
       "      <th></th>\n",
       "      <th>Time_of_Day</th>\n",
       "      <th>Day_of_Week</th>\n",
       "      <th>Traffic_Conditions</th>\n",
       "      <th>Weather</th>\n",
       "    </tr>\n",
       "  </thead>\n",
       "  <tbody>\n",
       "    <tr>\n",
       "      <th>0</th>\n",
       "      <td>2.0</td>\n",
       "      <td>0.0</td>\n",
       "      <td>1.0</td>\n",
       "      <td>0.0</td>\n",
       "    </tr>\n",
       "    <tr>\n",
       "      <th>1</th>\n",
       "      <td>0.0</td>\n",
       "      <td>0.0</td>\n",
       "      <td>0.0</td>\n",
       "      <td>0.0</td>\n",
       "    </tr>\n",
       "    <tr>\n",
       "      <th>2</th>\n",
       "      <td>1.0</td>\n",
       "      <td>1.0</td>\n",
       "      <td>0.0</td>\n",
       "      <td>0.0</td>\n",
       "    </tr>\n",
       "    <tr>\n",
       "      <th>3</th>\n",
       "      <td>1.0</td>\n",
       "      <td>0.0</td>\n",
       "      <td>1.0</td>\n",
       "      <td>0.0</td>\n",
       "    </tr>\n",
       "    <tr>\n",
       "      <th>4</th>\n",
       "      <td>1.0</td>\n",
       "      <td>0.0</td>\n",
       "      <td>0.0</td>\n",
       "      <td>0.0</td>\n",
       "    </tr>\n",
       "  </tbody>\n",
       "</table>\n",
       "</div>"
      ],
      "text/plain": [
       "   Time_of_Day  Day_of_Week  Traffic_Conditions  Weather\n",
       "0          2.0          0.0                 1.0      0.0\n",
       "1          0.0          0.0                 0.0      0.0\n",
       "2          1.0          1.0                 0.0      0.0\n",
       "3          1.0          0.0                 1.0      0.0\n",
       "4          1.0          0.0                 0.0      0.0"
      ]
     },
     "execution_count": 23,
     "metadata": {},
     "output_type": "execute_result"
    }
   ],
   "source": [
    "data[cat_cols].head()"
   ]
  },
  {
   "cell_type": "code",
   "execution_count": 24,
   "id": "2bd39f8b",
   "metadata": {},
   "outputs": [
    {
     "data": {
      "text/html": [
       "<div>\n",
       "<style scoped>\n",
       "    .dataframe tbody tr th:only-of-type {\n",
       "        vertical-align: middle;\n",
       "    }\n",
       "\n",
       "    .dataframe tbody tr th {\n",
       "        vertical-align: top;\n",
       "    }\n",
       "\n",
       "    .dataframe thead th {\n",
       "        text-align: right;\n",
       "    }\n",
       "</style>\n",
       "<table border=\"1\" class=\"dataframe\">\n",
       "  <thead>\n",
       "    <tr style=\"text-align: right;\">\n",
       "      <th></th>\n",
       "      <th>Trip_Distance_km</th>\n",
       "      <th>Time_of_Day</th>\n",
       "      <th>Day_of_Week</th>\n",
       "      <th>Passenger_Count</th>\n",
       "      <th>Traffic_Conditions</th>\n",
       "      <th>Weather</th>\n",
       "      <th>Base_Fare</th>\n",
       "      <th>Per_Km_Rate</th>\n",
       "      <th>Per_Minute_Rate</th>\n",
       "      <th>Trip_Duration_Minutes</th>\n",
       "      <th>Trip_Price</th>\n",
       "      <th>total_trip_distance_rate</th>\n",
       "      <th>total_duration_rate</th>\n",
       "    </tr>\n",
       "  </thead>\n",
       "  <tbody>\n",
       "    <tr>\n",
       "      <th>0</th>\n",
       "      <td>19.350000</td>\n",
       "      <td>2.0</td>\n",
       "      <td>0.0</td>\n",
       "      <td>3.0</td>\n",
       "      <td>1.0</td>\n",
       "      <td>0.0</td>\n",
       "      <td>3.560000</td>\n",
       "      <td>0.80</td>\n",
       "      <td>0.32</td>\n",
       "      <td>53.82</td>\n",
       "      <td>36.2624</td>\n",
       "      <td>15.4800</td>\n",
       "      <td>17.2224</td>\n",
       "    </tr>\n",
       "    <tr>\n",
       "      <th>1</th>\n",
       "      <td>47.590000</td>\n",
       "      <td>0.0</td>\n",
       "      <td>0.0</td>\n",
       "      <td>1.0</td>\n",
       "      <td>0.0</td>\n",
       "      <td>0.0</td>\n",
       "      <td>3.573333</td>\n",
       "      <td>0.62</td>\n",
       "      <td>0.43</td>\n",
       "      <td>40.57</td>\n",
       "      <td>44.5984</td>\n",
       "      <td>29.5058</td>\n",
       "      <td>17.4451</td>\n",
       "    </tr>\n",
       "    <tr>\n",
       "      <th>2</th>\n",
       "      <td>36.870000</td>\n",
       "      <td>1.0</td>\n",
       "      <td>1.0</td>\n",
       "      <td>1.0</td>\n",
       "      <td>0.0</td>\n",
       "      <td>0.0</td>\n",
       "      <td>2.700000</td>\n",
       "      <td>1.21</td>\n",
       "      <td>0.15</td>\n",
       "      <td>37.27</td>\n",
       "      <td>52.9032</td>\n",
       "      <td>44.6127</td>\n",
       "      <td>5.5905</td>\n",
       "    </tr>\n",
       "    <tr>\n",
       "      <th>3</th>\n",
       "      <td>30.330000</td>\n",
       "      <td>1.0</td>\n",
       "      <td>0.0</td>\n",
       "      <td>4.0</td>\n",
       "      <td>1.0</td>\n",
       "      <td>0.0</td>\n",
       "      <td>3.480000</td>\n",
       "      <td>0.51</td>\n",
       "      <td>0.15</td>\n",
       "      <td>116.81</td>\n",
       "      <td>36.4698</td>\n",
       "      <td>15.4683</td>\n",
       "      <td>17.5215</td>\n",
       "    </tr>\n",
       "    <tr>\n",
       "      <th>4</th>\n",
       "      <td>15.506667</td>\n",
       "      <td>1.0</td>\n",
       "      <td>0.0</td>\n",
       "      <td>3.0</td>\n",
       "      <td>0.0</td>\n",
       "      <td>0.0</td>\n",
       "      <td>2.930000</td>\n",
       "      <td>0.63</td>\n",
       "      <td>0.32</td>\n",
       "      <td>22.64</td>\n",
       "      <td>15.6180</td>\n",
       "      <td>9.7692</td>\n",
       "      <td>7.2448</td>\n",
       "    </tr>\n",
       "  </tbody>\n",
       "</table>\n",
       "</div>"
      ],
      "text/plain": [
       "   Trip_Distance_km  Time_of_Day  Day_of_Week  Passenger_Count  \\\n",
       "0         19.350000          2.0          0.0              3.0   \n",
       "1         47.590000          0.0          0.0              1.0   \n",
       "2         36.870000          1.0          1.0              1.0   \n",
       "3         30.330000          1.0          0.0              4.0   \n",
       "4         15.506667          1.0          0.0              3.0   \n",
       "\n",
       "   Traffic_Conditions  Weather  Base_Fare  Per_Km_Rate  Per_Minute_Rate  \\\n",
       "0                 1.0      0.0   3.560000         0.80             0.32   \n",
       "1                 0.0      0.0   3.573333         0.62             0.43   \n",
       "2                 0.0      0.0   2.700000         1.21             0.15   \n",
       "3                 1.0      0.0   3.480000         0.51             0.15   \n",
       "4                 0.0      0.0   2.930000         0.63             0.32   \n",
       "\n",
       "   Trip_Duration_Minutes  Trip_Price  total_trip_distance_rate  \\\n",
       "0                  53.82     36.2624                   15.4800   \n",
       "1                  40.57     44.5984                   29.5058   \n",
       "2                  37.27     52.9032                   44.6127   \n",
       "3                 116.81     36.4698                   15.4683   \n",
       "4                  22.64     15.6180                    9.7692   \n",
       "\n",
       "   total_duration_rate  \n",
       "0              17.2224  \n",
       "1              17.4451  \n",
       "2               5.5905  \n",
       "3              17.5215  \n",
       "4               7.2448  "
      ]
     },
     "execution_count": 24,
     "metadata": {},
     "output_type": "execute_result"
    }
   ],
   "source": [
    "data.head()"
   ]
  },
  {
   "cell_type": "code",
   "execution_count": 25,
   "id": "8a7c8735",
   "metadata": {},
   "outputs": [],
   "source": [
    "data = data.drop(['Per_Minute_Rate','Per_Km_Rate','Trip_Distance_km','Trip_Duration_Minutes'],axis=1)"
   ]
  },
  {
   "cell_type": "code",
   "execution_count": 26,
   "id": "bc12855b",
   "metadata": {},
   "outputs": [
    {
     "data": {
      "text/html": [
       "<div>\n",
       "<style scoped>\n",
       "    .dataframe tbody tr th:only-of-type {\n",
       "        vertical-align: middle;\n",
       "    }\n",
       "\n",
       "    .dataframe tbody tr th {\n",
       "        vertical-align: top;\n",
       "    }\n",
       "\n",
       "    .dataframe thead th {\n",
       "        text-align: right;\n",
       "    }\n",
       "</style>\n",
       "<table border=\"1\" class=\"dataframe\">\n",
       "  <thead>\n",
       "    <tr style=\"text-align: right;\">\n",
       "      <th></th>\n",
       "      <th>Time_of_Day</th>\n",
       "      <th>Day_of_Week</th>\n",
       "      <th>Passenger_Count</th>\n",
       "      <th>Traffic_Conditions</th>\n",
       "      <th>Weather</th>\n",
       "      <th>Base_Fare</th>\n",
       "      <th>Trip_Price</th>\n",
       "      <th>total_trip_distance_rate</th>\n",
       "      <th>total_duration_rate</th>\n",
       "    </tr>\n",
       "  </thead>\n",
       "  <tbody>\n",
       "    <tr>\n",
       "      <th>0</th>\n",
       "      <td>2.0</td>\n",
       "      <td>0.0</td>\n",
       "      <td>3.0</td>\n",
       "      <td>1.0</td>\n",
       "      <td>0.0</td>\n",
       "      <td>3.560000</td>\n",
       "      <td>36.2624</td>\n",
       "      <td>15.4800</td>\n",
       "      <td>17.2224</td>\n",
       "    </tr>\n",
       "    <tr>\n",
       "      <th>1</th>\n",
       "      <td>0.0</td>\n",
       "      <td>0.0</td>\n",
       "      <td>1.0</td>\n",
       "      <td>0.0</td>\n",
       "      <td>0.0</td>\n",
       "      <td>3.573333</td>\n",
       "      <td>44.5984</td>\n",
       "      <td>29.5058</td>\n",
       "      <td>17.4451</td>\n",
       "    </tr>\n",
       "    <tr>\n",
       "      <th>2</th>\n",
       "      <td>1.0</td>\n",
       "      <td>1.0</td>\n",
       "      <td>1.0</td>\n",
       "      <td>0.0</td>\n",
       "      <td>0.0</td>\n",
       "      <td>2.700000</td>\n",
       "      <td>52.9032</td>\n",
       "      <td>44.6127</td>\n",
       "      <td>5.5905</td>\n",
       "    </tr>\n",
       "    <tr>\n",
       "      <th>3</th>\n",
       "      <td>1.0</td>\n",
       "      <td>0.0</td>\n",
       "      <td>4.0</td>\n",
       "      <td>1.0</td>\n",
       "      <td>0.0</td>\n",
       "      <td>3.480000</td>\n",
       "      <td>36.4698</td>\n",
       "      <td>15.4683</td>\n",
       "      <td>17.5215</td>\n",
       "    </tr>\n",
       "    <tr>\n",
       "      <th>4</th>\n",
       "      <td>1.0</td>\n",
       "      <td>0.0</td>\n",
       "      <td>3.0</td>\n",
       "      <td>0.0</td>\n",
       "      <td>0.0</td>\n",
       "      <td>2.930000</td>\n",
       "      <td>15.6180</td>\n",
       "      <td>9.7692</td>\n",
       "      <td>7.2448</td>\n",
       "    </tr>\n",
       "  </tbody>\n",
       "</table>\n",
       "</div>"
      ],
      "text/plain": [
       "   Time_of_Day  Day_of_Week  Passenger_Count  Traffic_Conditions  Weather  \\\n",
       "0          2.0          0.0              3.0                 1.0      0.0   \n",
       "1          0.0          0.0              1.0                 0.0      0.0   \n",
       "2          1.0          1.0              1.0                 0.0      0.0   \n",
       "3          1.0          0.0              4.0                 1.0      0.0   \n",
       "4          1.0          0.0              3.0                 0.0      0.0   \n",
       "\n",
       "   Base_Fare  Trip_Price  total_trip_distance_rate  total_duration_rate  \n",
       "0   3.560000     36.2624                   15.4800              17.2224  \n",
       "1   3.573333     44.5984                   29.5058              17.4451  \n",
       "2   2.700000     52.9032                   44.6127               5.5905  \n",
       "3   3.480000     36.4698                   15.4683              17.5215  \n",
       "4   2.930000     15.6180                    9.7692               7.2448  "
      ]
     },
     "execution_count": 26,
     "metadata": {},
     "output_type": "execute_result"
    }
   ],
   "source": [
    "data.head()"
   ]
  },
  {
   "cell_type": "code",
   "execution_count": 27,
   "id": "e78142c0",
   "metadata": {},
   "outputs": [],
   "source": [
    "X = data.copy()\n",
    "y = X.Trip_Price\n",
    "X.drop('Trip_Price',axis=1,inplace=True)\n",
    "# X.drop('Traffic_Conditions',axis=1,inplace=True)\n",
    "X.drop('Time_of_Day',axis=1,inplace=True)\n",
    "X.drop('Day_of_Week',axis=1,inplace=True)\n",
    "X.drop('Weather',axis=1,inplace=True)\n",
    "# print(X)\n",
    "# print(y)"
   ]
  },
  {
   "cell_type": "code",
   "execution_count": 28,
   "id": "ad206510",
   "metadata": {},
   "outputs": [],
   "source": [
    "from sklearn.model_selection import train_test_split\n",
    "x_train,x_test,y_train,y_test = train_test_split(X,y,train_size=0.8,test_size=0.2,random_state=0)"
   ]
  },
  {
   "cell_type": "code",
   "execution_count": 29,
   "id": "8bf3a672",
   "metadata": {},
   "outputs": [],
   "source": [
    "from sklearn.ensemble import RandomForestRegressor\n",
    "model = RandomForestRegressor(n_estimators=85,max_leaf_nodes=100,random_state=0)"
   ]
  },
  {
   "cell_type": "code",
   "execution_count": 30,
   "id": "cfefd00e",
   "metadata": {},
   "outputs": [
    {
     "name": "stdout",
     "output_type": "stream",
     "text": [
      "[ 36.13736029  27.73355724  30.84465611  50.40250513  12.13187633\n",
      "  48.06957304 295.30913216  32.89840878  65.70178261  30.79675411\n",
      "  53.38187692  81.08392963  45.45032906  32.42308398  62.41644147\n",
      "  89.21209949  67.7319553   35.16887415  30.03753681  24.41264954\n",
      "  23.38577104 259.51161879  48.72166418  14.08127337  35.02639855\n",
      "  55.13597945  30.09413421  56.14618519  21.97209372  47.50490072\n",
      "  49.32199089  64.53690464  71.85469968  49.65760474  96.83392161\n",
      "  36.79531667  34.43042157  52.25864173  56.0489503  106.99922744\n",
      "  58.39742473  54.35028376  48.77270443  44.43909734  40.99398149\n",
      "  36.36906356  64.01088279 295.22639483  35.68655071  54.96928836\n",
      "  45.31454116  35.68756524  36.43459315  47.0726234   46.32256074\n",
      "  37.84757393  75.85124952  40.91469398  52.76390222  38.50586587\n",
      "  22.50098943  38.06496948  32.08713726  30.88441058  35.83048462\n",
      "  60.37656045  89.76972302  78.39402958  57.45177614  46.45152198\n",
      "  58.13589655  23.26484803  61.78436109  60.85546346  25.72460303\n",
      "  74.02751818  60.10531137  48.15019371  60.87319606  31.1628803\n",
      "  51.44210745  35.93744706  30.62322974  44.7869796   57.29994547\n",
      "  37.09948988  56.94424514  51.34313438  44.35233049  12.02790671\n",
      "  37.08546538  53.97321606  54.12778139  47.30384329  40.03857752\n",
      "  83.47476324  40.05622339 290.54105984  51.20765143  60.35377956\n",
      "  94.68476373  69.2538585   56.99932981  38.57952306  48.47839498\n",
      "  84.74447829  41.55379862  81.62914486  49.13983278  81.278673\n",
      "  30.06579051  46.78103539  46.78056241  75.53536754  74.10819624\n",
      " 111.59863744  30.49577001  40.14331885  62.42800343  42.63693365\n",
      "  62.75458585  42.54980614  35.15863314  48.88264695  32.7024833\n",
      "  24.94196062  43.87587888  25.37740143  50.5802683   62.32377383\n",
      "  45.08372677  48.12566585  67.8361419   46.40891847  52.28425181\n",
      "  44.05731384  25.86085179  85.07915343  56.65308975  62.50592822\n",
      "  61.07105574 109.24084025  53.06801273  57.82907469 107.89709391\n",
      "  52.28564327  86.1334008  120.85837042  70.36252303  60.64359866\n",
      "  90.52212895  59.18724648  91.36979025  34.58068164  61.00903727\n",
      "  58.95664494  83.3233176   58.33417024  90.15325022  72.02774435\n",
      "  37.85056893  50.2998323   86.5584726   44.27440969  76.58943782\n",
      "  83.95171371  49.83857891  42.5818272   99.46874221  60.93551149\n",
      "  11.81210514 166.96795215  31.64285449  36.72235523  24.54117051\n",
      " 157.49555826  60.94763655  59.72022129  73.98013625  28.84586145\n",
      "  59.46250699  37.77279337  55.41963344  57.82788782  79.49920824\n",
      "  65.64535633  97.98731098  24.20458126  43.59781905  47.19525732\n",
      "  58.35486809  45.18675358  54.16905364  60.42746573  59.68374408\n",
      "  63.35550229  20.13091945  62.77765003 101.15323911  37.2057784 ]\n"
     ]
    }
   ],
   "source": [
    "model.fit(x_train,y_train)\n",
    "pred = model.predict(x_test)\n",
    "print(pred)"
   ]
  },
  {
   "cell_type": "code",
   "execution_count": 31,
   "id": "1117dfe5",
   "metadata": {},
   "outputs": [
    {
     "name": "stdout",
     "output_type": "stream",
     "text": [
      "993     55.3348\n",
      "859     25.0950\n",
      "298     29.0925\n",
      "553     53.8901\n",
      "672      9.9494\n",
      "         ...   \n",
      "679     58.0149\n",
      "722     14.8186\n",
      "215     66.1016\n",
      "653    101.0292\n",
      "150     36.4958\n",
      "Name: Trip_Price, Length: 200, dtype: float64\n"
     ]
    }
   ],
   "source": [
    "print(y_test)"
   ]
  },
  {
   "cell_type": "code",
   "execution_count": 32,
   "id": "fdeb31ed",
   "metadata": {},
   "outputs": [
    {
     "data": {
      "text/plain": [
       "0.91"
      ]
     },
     "execution_count": 32,
     "metadata": {},
     "output_type": "execute_result"
    }
   ],
   "source": [
    "round(model.score(x_test,y_test),2)"
   ]
  },
  {
   "cell_type": "code",
   "execution_count": 33,
   "id": "1737733a",
   "metadata": {},
   "outputs": [
    {
     "name": "stdout",
     "output_type": "stream",
     "text": [
      "6.044405650341348\n"
     ]
    }
   ],
   "source": [
    "from sklearn.metrics import mean_absolute_error\n",
    "mae = mean_absolute_error(pred,y_test)\n",
    "print(mae)"
   ]
  },
  {
   "cell_type": "code",
   "execution_count": 34,
   "id": "8aff030a",
   "metadata": {},
   "outputs": [
    {
     "name": "stdout",
     "output_type": "stream",
     "text": [
      "157.13698601399014\n",
      "12.535429231342265\n"
     ]
    }
   ],
   "source": [
    "import math\n",
    "from sklearn.metrics import mean_squared_error\n",
    "mse = mean_squared_error(y_test,pred)\n",
    "rmse = math.sqrt(mse)\n",
    "print(mse)\n",
    "print(rmse)"
   ]
  },
  {
   "cell_type": "code",
   "execution_count": 35,
   "id": "a27f2db0",
   "metadata": {},
   "outputs": [
    {
     "data": {
      "text/plain": [
       "<Axes: >"
      ]
     },
     "execution_count": 35,
     "metadata": {},
     "output_type": "execute_result"
    },
    {
     "data": {
      "image/png": "[encoded data removed]",
      "text/plain": [
       "<Figure size 640x480 with 1 Axes>"
      ]
     },
     "metadata": {},
     "output_type": "display_data"
    }
   ],
   "source": [
    "feature_imp = pd.Series(model.feature_importances_,index = x_train.columns)\n",
    "feature_imp.nlargest(6).plot(kind='barh')"
   ]
  }
 ],
 "metadata": {
  "kernelspec": {
   "display_name": "Python 3",
   "language": "python",
   "name": "python3"
  },
  "language_info": {
   "codemirror_mode": {
    "name": "ipython",
    "version": 3
   },
   "file_extension": ".py",
   "mimetype": "text/x-python",
   "name": "python",
   "nbconvert_exporter": "python",
   "pygments_lexer": "ipython3",
   "version": "3.12.2"
  }
 },
 "nbformat": 4,
 "nbformat_minor": 5
}
